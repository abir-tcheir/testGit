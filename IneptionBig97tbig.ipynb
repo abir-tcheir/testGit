{
  "nbformat": 4,
  "nbformat_minor": 0,
  "metadata": {
    "accelerator": "GPU",
    "colab": {
      "name": "IneptionBig97tbig.ipynb",
      "provenance": [],
      "collapsed_sections": [],
      "include_colab_link": true
    },
    "kernelspec": {
      "display_name": "Python 3",
      "name": "python3"
    }
  },
  "cells": [
    {
      "cell_type": "markdown",
      "metadata": {
        "id": "view-in-github",
        "colab_type": "text"
      },
      "source": [
        "<a href=\"https://colab.research.google.com/github/abir-tcheir/testGit/blob/main/IneptionBig97tbig.ipynb\" target=\"_parent\"><img src=\"https://colab.research.google.com/assets/colab-badge.svg\" alt=\"Open In Colab\"/></a>"
      ]
    },
    {
      "cell_type": "code",
      "metadata": {
        "colab": {
          "background_save": true
        },
        "id": "4Nuf3flsNrk9",
        "outputId": "c1851b1e-cdd7-4f86-8ddb-e45d46367cdc"
      },
      "source": [
        " from google.colab import drive\n",
        "drive.mount('/content/drive')"
      ],
      "execution_count": null,
      "outputs": [
        {
          "name": "stdout",
          "output_type": "stream",
          "text": [
            "Mounted at /content/drive\n"
          ]
        }
      ]
    },
    {
      "cell_type": "code",
      "metadata": {
        "colab": {
          "background_save": true
        },
        "id": "juGWwvmiY2aS"
      },
      "source": [
        "import os\n",
        "import zipfile\n",
        "import datetime\n",
        "from collections import Counter\n",
        " \n",
        "import sklearn\n",
        "import numpy as np\n",
        "import pandas as pd\n",
        "import seaborn as sns\n",
        " \n",
        "from sklearn.model_selection import StratifiedShuffleSplit\n",
        "import tensorflow as tf\n",
        "from tensorflow.keras.preprocessing.image import ImageDataGenerator\n",
        "from tensorflow import keras\n",
        "from tensorflow.keras import models,layers\n",
        "from tensorflow.keras.utils import plot_model\n",
        " \n",
        "from keras.layers import Activation, Dense\n",
        "from tensorflow.keras.optimizers import Adam, schedules\n",
        " \n",
        "import matplotlib.pyplot as plt\n",
        "import PIL.Image\n",
        "from IPython.display import Image\n",
        "import matplotlib.pyplot as plt\n",
        " \n",
        "from sklearn.metrics import confusion_matrix\n",
        "from sklearn.metrics import classification_report, confusion_matrix, plot_confusion_matrix, ConfusionMatrixDisplay"
      ],
      "execution_count": null,
      "outputs": []
    },
    {
      "cell_type": "code",
      "metadata": {
        "colab": {
          "background_save": true
        },
        "id": "Iwp_nC7waEn8",
        "outputId": "9d793608-43f7-4d39-e655-a424ae4505c9"
      },
      "source": [
        "img_path = '/content/drive/My Drive/COVID-19_Radiography/'\n",
        "#img_path = '/content/drive/My Drive/COVID-19_Radiography/'\n",
        "covid_imgs = '/content/COVID-19_Radiography_Dataset/COVID'\n",
        "normal_imgs = '/content/COVID-19_Radiography_Dataset/Normal'\n",
        "pneumonia_imgs = '/content/COVID-19_Radiography_Dataset/Viral Pneumonia'\n",
        " \n",
        "#covid_imgs = os.listdir(img_path+'/COVID')\n",
        "#normal_imgs = os.listdir(img_path+'/Non-COVID')\n",
        " \n",
        "covid_imgs = os.listdir(img_path+'/COVID')\n",
        "normal_imgs = os.listdir(img_path+'/Normal')\n",
        "pneumonia_imgs = os.listdir(img_path + '/Viral Pneumonia')\n",
        " \n",
        " \n",
        "print(\"Normal chest x-ray\")\n",
        "im = PIL.Image.open(os.path.join(img_path,'Normal',normal_imgs[0]))\n",
        "plt.imshow(im,cmap=\"gray\")\n",
        "plt.show()\n",
        " \n",
        "print(\"COVID chest x-ray\")\n",
        "im = PIL.Image.open(os.path.join(img_path,'COVID',covid_imgs[0]))\n",
        "plt.imshow(im,cmap=\"gray\")\n",
        "plt.show()\n",
        " \n",
        "print(\"Viral Pneumonia chest x-ray\")\n",
        "im = PIL.Image.open(os.path.join(img_path,'Viral Pneumonia',pneumonia_imgs[0]))\n",
        "plt.imshow(im,cmap=\"gray\")\n",
        "plt.show()"
      ],
      "execution_count": null,
      "outputs": [
        {
          "ename": "FileNotFoundError",
          "evalue": "ignored",
          "output_type": "error",
          "traceback": [
            "\u001b[0;31m---------------------------------------------------------------------------\u001b[0m",
            "\u001b[0;31mFileNotFoundError\u001b[0m                         Traceback (most recent call last)",
            "\u001b[0;32m<ipython-input-3-96a71f8dd854>\u001b[0m in \u001b[0;36m<module>\u001b[0;34m()\u001b[0m\n\u001b[1;32m      8\u001b[0m \u001b[0;31m#normal_imgs = os.listdir(img_path+'/Non-COVID')\u001b[0m\u001b[0;34m\u001b[0m\u001b[0;34m\u001b[0m\u001b[0;34m\u001b[0m\u001b[0m\n\u001b[1;32m      9\u001b[0m \u001b[0;34m\u001b[0m\u001b[0m\n\u001b[0;32m---> 10\u001b[0;31m \u001b[0mcovid_imgs\u001b[0m \u001b[0;34m=\u001b[0m \u001b[0mos\u001b[0m\u001b[0;34m.\u001b[0m\u001b[0mlistdir\u001b[0m\u001b[0;34m(\u001b[0m\u001b[0mimg_path\u001b[0m\u001b[0;34m+\u001b[0m\u001b[0;34m'/COVID'\u001b[0m\u001b[0;34m)\u001b[0m\u001b[0;34m\u001b[0m\u001b[0;34m\u001b[0m\u001b[0m\n\u001b[0m\u001b[1;32m     11\u001b[0m \u001b[0mnormal_imgs\u001b[0m \u001b[0;34m=\u001b[0m \u001b[0mos\u001b[0m\u001b[0;34m.\u001b[0m\u001b[0mlistdir\u001b[0m\u001b[0;34m(\u001b[0m\u001b[0mimg_path\u001b[0m\u001b[0;34m+\u001b[0m\u001b[0;34m'/Normal'\u001b[0m\u001b[0;34m)\u001b[0m\u001b[0;34m\u001b[0m\u001b[0;34m\u001b[0m\u001b[0m\n\u001b[1;32m     12\u001b[0m \u001b[0mpneumonia_imgs\u001b[0m \u001b[0;34m=\u001b[0m \u001b[0mos\u001b[0m\u001b[0;34m.\u001b[0m\u001b[0mlistdir\u001b[0m\u001b[0;34m(\u001b[0m\u001b[0mimg_path\u001b[0m \u001b[0;34m+\u001b[0m \u001b[0;34m'/Viral Pneumonia'\u001b[0m\u001b[0;34m)\u001b[0m\u001b[0;34m\u001b[0m\u001b[0;34m\u001b[0m\u001b[0m\n",
            "\u001b[0;31mFileNotFoundError\u001b[0m: [Errno 2] No such file or directory: '/content/drive/My Drive/COVID-19_Radiography//COVID'"
          ]
        }
      ]
    },
    {
      "cell_type": "code",
      "metadata": {
        "colab": {
          "background_save": true
        },
        "id": "cmYw_JDMcSz8"
      },
      "source": [
        "list_files = []\n",
        "for dir in os.listdir(img_path):\n",
        "  aux_dir = os.path.join(img_path,dir)\n",
        "  \n",
        "  if os.path.isdir(aux_dir):\n",
        "    for img in os.listdir(aux_dir):\n",
        "      list_files.append([os.path.join(dir,img),dir])\n",
        "df = pd.DataFrame(list_files, columns=['id','label'])\n",
        "df.describe()"
      ],
      "execution_count": null,
      "outputs": []
    },
    {
      "cell_type": "code",
      "metadata": {
        "colab": {
          "background_save": true
        },
        "id": "2vOhAzp-cTEf"
      },
      "source": [
        "def frequency_plot(df):\n",
        "  freq_abs = Counter(df.label);\n",
        "  freq_a = pd.DataFrame.from_dict(freq_abs, orient='index').reset_index()\n",
        " # total = len(df.index)\n",
        "#  freq_r = freq_a[0]/total\n",
        " # freq_a[1] = freq_r\n",
        "  freq_a.columns = ['Label','absolute frequency']\n",
        "  return freq_a\n",
        "frequency_plot(df)"
      ],
      "execution_count": null,
      "outputs": []
    },
    {
      "cell_type": "code",
      "metadata": {
        "colab": {
          "background_save": true
        },
        "id": "kfpA9m6ZcTqA"
      },
      "source": [
        "def split_dataset(df,test_size,random_state = 101):\n",
        "  sss = StratifiedShuffleSplit(n_splits=1, test_size=test_size, random_state=random_state)\n",
        "  df = df.reset_index()\n",
        "  for train_index, test_index in sss.split(df['id'], df['label']):\n",
        "    X_train, X_test = df['id'][train_index], df['id'][test_index]\n",
        "    y_train, y_test = df['label'][train_index], df['label'][test_index]\n",
        "  traindf = pd.concat([X_train, y_train], axis=1)\n",
        "  testdf = pd.concat([X_test, y_test], axis=1)\n",
        "  return traindf,testdf\n",
        " \n",
        "#divide train/val/test in 80/10/10\n",
        "traindf,testdf = split_dataset(df,test_size = 0.25)\n",
        "valdf,testdf= split_dataset(testdf,test_size = 0.50)\n",
        "# traindf = balance_dataset('COVID',df)\n",
        " \n",
        " \n",
        "traindf.id = img_path + traindf.id\n",
        "valdf.id = img_path + valdf.id\n",
        "testdf.id = img_path + testdf.id"
      ],
      "execution_count": null,
      "outputs": []
    },
    {
      "cell_type": "code",
      "metadata": {
        "colab": {
          "background_save": true
        },
        "id": "mVUI9EmDcT6H"
      },
      "source": [
        "frequency_plot(traindf)"
      ],
      "execution_count": null,
      "outputs": []
    },
    {
      "cell_type": "code",
      "metadata": {
        "colab": {
          "background_save": true
        },
        "id": "siz6IZqld5x2"
      },
      "source": [
        "frequency_plot(valdf)"
      ],
      "execution_count": null,
      "outputs": []
    },
    {
      "cell_type": "code",
      "metadata": {
        "colab": {
          "background_save": true
        },
        "id": "tMn2FAPld6G8"
      },
      "source": [
        "frequency_plot(testdf)"
      ],
      "execution_count": null,
      "outputs": []
    },
    {
      "cell_type": "code",
      "metadata": {
        "colab": {
          "background_save": true
        },
        "id": "YsggIrZsd6Vv"
      },
      "source": [
        "BATCH_SIZE = 50\n",
        "#BATCH_SIZE = 3\n",
        "IMAGE_SIZE = 224\n",
        "input_shape = (IMAGE_SIZE,IMAGE_SIZE,3)"
      ],
      "execution_count": null,
      "outputs": []
    },
    {
      "cell_type": "code",
      "metadata": {
        "colab": {
          "background_save": true
        },
        "id": "yh-V378Xd6m-"
      },
      "source": [
        "#BATCH_SIZE=50\n",
        " \n",
        "\"\"\"\n",
        "train_datagen = ImageDataGenerator(          \n",
        "    rotation_range = 40,\n",
        "    width_shift_range = 0.2,\n",
        "  height_shift_range=0.2,\n",
        "  shear_range = 0.2,\n",
        "  zoom_range = 0.1,\n",
        "  fill_mode = 'nearest',\n",
        ")\n",
        "\"\"\"\n",
        "train_datagen = ImageDataGenerator(rescale=1./255)\n",
        "test_datagen = ImageDataGenerator(rescale=1./255)\n",
        " \n",
        " \n",
        "print(\"Creating train generator...\")\n",
        "train_generator = train_datagen.flow_from_dataframe(\n",
        "    dataframe=traindf,\n",
        "    #directory=\"COVID19\",\n",
        "    directory=\"COVID-19_Radiography\",\n",
        "    x_col=\"id\",\n",
        "    y_col=\"label\",\n",
        "    batch_size=BATCH_SIZE,\n",
        "    color_mode=\"rgb\",\n",
        "    seed=5,\n",
        "    shuffle=True,\n",
        "    class_mode=\"categorical\",\n",
        "    #class_mode=\"binary\",\n",
        "    target_size=(IMAGE_SIZE,IMAGE_SIZE)\n",
        ")\n",
        " \n",
        " \n",
        "val_datagen = ImageDataGenerator(rescale=1./255)\n",
        " \n",
        "test_generator = test_datagen.flow_from_dataframe(\n",
        "    dataframe=testdf,\n",
        "    directory=\"COVID-19_Radiography\",\n",
        "    x_col=\"id\",\n",
        "    y_col=\"label\",\n",
        "    color_mode=\"rgb\",\n",
        "    seed=5,\n",
        "    shuffle = False,\n",
        "    #batch_size=BATCH_SIZE,\n",
        "    batch_size=30,\n",
        "    #class_mode=\"binary\",\n",
        "    class_mode=\"categorical\",\n",
        "    target_size=(IMAGE_SIZE,IMAGE_SIZE)\n",
        ")\n",
        " \n",
        "print(\"\\nCreating val generator...\")\n",
        "val_generator = val_datagen.flow_from_dataframe(\n",
        "    dataframe=valdf,\n",
        "    directory=\"COVID-19_Radiography\",\n",
        "    x_col=\"id\",\n",
        "    y_col=\"label\",\n",
        "    batch_size=5,\n",
        "    #batch_size=BATCH_SIZE,\n",
        "    color_mode=\"rgb\",\n",
        "    seed=5,\n",
        "    shuffle=True,\n",
        "    #class_mode=\"binary\",\n",
        "    class_mode=\"categorical\",\n",
        "    \n",
        "    target_size=(IMAGE_SIZE,IMAGE_SIZE)\n",
        ")"
      ],
      "execution_count": null,
      "outputs": []
    },
    {
      "cell_type": "code",
      "metadata": {
        "colab": {
          "background_save": true
        },
        "id": "ND4JU6IGGqhh"
      },
      "source": [
        "!pip install -U git+https://github.com/qubvel/efficientnet"
      ],
      "execution_count": null,
      "outputs": []
    },
    {
      "cell_type": "code",
      "metadata": {
        "colab": {
          "background_save": true
        },
        "id": "82rJTUDPd679"
      },
      "source": [
        "#import efficientnet.tfkeras as enet\n",
        "#base_model =enet.EfficientNetB0(include_top=False, input_shape=(224,224,3), pooling='avg', weights=\"imagenet\",classes=2)\n",
        "#from keras.applications.resnet import ResNet50\n",
        " \n",
        "#from keras.applications.vgg16 import VGG16\n",
        "#base_model = VGG16(include_top=False, input_shape=input_shape,\n",
        "                    # weights='imagenet')\n",
        "\n",
        "from keras.applications.inception_v3 import InceptionV3 \n",
        "base_model =InceptionV3(include_top=False, input_shape=input_shape,\n",
        "                    weights='imagenet')\n",
        "\n",
        "#Freeze base convolutional layers\n",
        "base_model.trainable = False\n",
        "base_model.summary()"
      ],
      "execution_count": null,
      "outputs": []
    },
    {
      "cell_type": "code",
      "metadata": {
        "colab": {
          "background_save": true
        },
        "id": "p26GpEV2ecof"
      },
      "source": [
        "from keras.layers import AveragePooling2D, BatchNormalization\n",
        "from keras.regularizers import l1_l2\n",
        "from keras.regularizers import l2\n",
        "from keras.regularizers import l1\n",
        "from keras.layers import Dropout\n",
        " \n",
        "model = models.Sequential()\n",
        "model.add(base_model)\n",
        " \n",
        "model.add(layers.Flatten())\n",
        "model.add(layers.BatchNormalization())\n",
        "model.add(layers.Dense(1024,activation='relu'))\n",
        "model.add(layers.Dropout(0.30))\n",
        "model.add(layers.BatchNormalization())\n",
        "model.add(layers.Dense(1024,activation='relu'))\n",
        "model.add(layers.Dropout(0.30))\n",
        "#model.add(layers.Dense(1, activation='sigmoid'))\n",
        "model.add(layers.Dense(3, activation='softmax'))\n",
        " \n",
        "\"\"\"\n",
        "# model.add(layers.Conv2D(64, 3, activation='relu'))\n",
        "model.add(layers.Flatten())\n",
        " \n",
        "model.add(layers.Dense(1024, activation='relu'))\n",
        "model.add(layers.Dropout(0.30))\n",
        "model.add(layers.Dense(1024, activation='relu'))\n",
        "model.add(layers.Dropout(0.30))\n",
        "model.add(layers.Dense(1, activation='sigmoid',name=\"fc_out\"))\n",
        " \n",
        " \n",
        "x = base_model.output\n",
        " \n",
        "x = BatchNormalization()(x)\n",
        "x = Dropout(0.7)(x)\n",
        " \n",
        "x = Dense(512)(x)\n",
        "x = BatchNormalization()(x)\n",
        "x = Activation(\"relu\")(x)\n",
        "x = Dropout(0.5)(x)\n",
        " \n",
        "x = Dense(128)(x)\n",
        "x = BatchNormalization()(x)\n",
        "x = Activation(\"relu\")(x)\n",
        "# Output layer\n",
        "predictions = Dense(1, activation=\"sigmoid\")(x)\n",
        " \n",
        "model= Model(inputs = base_model.input, outputs = predictions)\n",
        "\"\"\"\n",
        "#model.summary()"
      ],
      "execution_count": null,
      "outputs": []
    },
    {
      "cell_type": "code",
      "metadata": {
        "colab": {
          "background_save": true
        },
        "id": "Tl2x0_hPedLj"
      },
      "source": [
        "plot_model(model, to_file='model.png', show_shapes=True)\n",
        "Image(filename='model.png')"
      ],
      "execution_count": null,
      "outputs": []
    },
    {
      "cell_type": "code",
      "metadata": {
        "colab": {
          "base_uri": "https://localhost:8080/"
        },
        "id": "9ruES6UAhG3F",
        "outputId": "fab490e2-551c-439b-f2ca-d28bbbeb6340"
      },
      "source": [
        " \n",
        " \n",
        " #base_convnet.trainable=True \n",
        "EPOCHS =21\n",
        "LEARNING_RATE = 1e-5\n",
        "DECAY= LEARNING_RATE/EPOCHS\n",
        "model.compile(\n",
        "     #loss='binary_crossentropy',\n",
        "    loss='categorical_crossentropy',\n",
        "    # optimizer = tf.keras.optimizers.RMSprop(lr=2e-5),\n",
        "     optimizer = tf.keras.optimizers.Nadam(lr=LEARNING_RATE),\n",
        "     metrics=[tf.keras.metrics.Recall(),tf.keras.metrics.Precision(),\n",
        "             'acc']\n",
        ")\n",
        " \n",
        "#callbacks = [model_checkpoint_callback,early,mcp_save]\n",
        "history = model.fit_generator(\n",
        "    train_generator,\n",
        "    steps_per_epoch = BATCH_SIZE,\n",
        "    epochs=EPOCHS,\n",
        "    #callbacks=callbacks,\n",
        "    validation_data = val_generator,\n",
        "    validation_steps=BATCH_SIZE,\n",
        "    verbose=1\n",
        ")"
      ],
      "execution_count": null,
      "outputs": [
        {
          "output_type": "stream",
          "text": [
            "/usr/local/lib/python3.7/dist-packages/keras/optimizer_v2/optimizer_v2.py:356: UserWarning: The `lr` argument is deprecated, use `learning_rate` instead.\n",
            "  \"The `lr` argument is deprecated, use `learning_rate` instead.\")\n",
            "/usr/local/lib/python3.7/dist-packages/keras/engine/training.py:1972: UserWarning: `Model.fit_generator` is deprecated and will be removed in a future version. Please use `Model.fit`, which supports generators.\n",
            "  warnings.warn('`Model.fit_generator` is deprecated and '\n"
          ],
          "name": "stderr"
        },
        {
          "output_type": "stream",
          "text": [
            "Epoch 1/21\n",
            "50/50 [==============================] - 235s 5s/step - loss: 0.0550 - recall_1: 0.9828 - precision_1: 0.9844 - acc: 0.9828 - val_loss: 0.1036 - val_recall_1: 0.9640 - val_precision_1: 0.9640 - val_acc: 0.9640\n",
            "Epoch 2/21\n",
            " 5/50 [==>...........................] - ETA: 3:08 - loss: 0.0434 - recall_1: 0.9840 - precision_1: 0.9840 - acc: 0.9840"
          ],
          "name": "stdout"
        }
      ]
    },
    {
      "cell_type": "code",
      "metadata": {
        "colab": {
          "base_uri": "https://localhost:8080/",
          "height": 365
        },
        "id": "ZL9gh2vu8r48",
        "outputId": "4ff19a8e-c0bb-4b18-d10a-ee8706c6be35"
      },
      "source": [
        "%matplotlib inline\n",
        "import matplotlib.pyplot as plt\n",
        " \n",
        "'''\n",
        " \n",
        "plt.plot(history.history['loss'], label='train data')\n",
        "plt.plot(history.history['val_loss'], label='test data')\n",
        "plt.title('PretrainedResnet50 Train/Test Loss')\n",
        "plt.ylabel('Loss')\n",
        "plt.xlabel('Number of Epochs')\n",
        "plt.legend(loc=\"upper left\")\n",
        "plt.show()\n",
        " \n",
        "# Plot history: Accuracy\n",
        "plt.plot(history.history['acc'], label='train data')\n",
        "plt.plot(history.history['val_acc'], label='test data')\n",
        "plt.title('PretrainedResnet50 Train/Test Accuracy')\n",
        "plt.ylabel('Accuracy')\n",
        "plt.xlabel('Number of Epochs')\n",
        "plt.legend(loc=\"upper left\")\n",
        "plt.show()\n",
        "'''\n",
        "N = EPOCHS\n",
        "#plt.style.use(\"ggplot\")\n",
        "plt.figure()\n",
        "plt.plot(np.arange(0, N), history.history[\"loss\"], label=\"train_loss\")\n",
        "plt.plot(np.arange(0, N), history.history[\"val_loss\"], label=\"test_loss\")\n",
        "plt.plot(np.arange(0, N), history.history[\"acc\"], label=\"train_acc\")\n",
        "plt.plot(np.arange(0, N), history.history[\"val_acc\"], label=\"test_acc\")\n",
        "plt.title(\"PretrainedDenceNet121 Train/Test Loss and Accuracy \")\n",
        "plt.xlabel(\"Number of Epochs\")\n",
        "plt.ylabel(\"Loss / Accuracy\")\n",
        "plt.legend(loc=\"upper left\")\n",
        " \n",
        " \n",
        "'''\n",
        "acc=history.history['acc'], label='train data'\n",
        "val_acc=history.history['val_acc']\n",
        "loss=history.history['loss']\n",
        "val_loss=history.history['val_loss']\n",
        " \n",
        "plt.plot( acc)\n",
        "plt.plot( val_acc)\n",
        "#plt.title('Training and validation accuracy')\n",
        "plt.title('PretrainedResnet50 Train/Test Loss')\n",
        "plt.ylabel('Loss')\n",
        "plt.xlabel('Number of Epochs')\n",
        "plt.legend(loc=\"upper left\")\n",
        " \n",
        "plt.figure()\n",
        "'''"
      ],
      "execution_count": 26,
      "outputs": [
        {
          "output_type": "execute_result",
          "data": {
            "application/vnd.google.colaboratory.intrinsic+json": {
              "type": "string"
            },
            "text/plain": [
              "'\\nacc=history.history[\\'acc\\'], label=\\'train data\\'\\nval_acc=history.history[\\'val_acc\\']\\nloss=history.history[\\'loss\\']\\nval_loss=history.history[\\'val_loss\\']\\n \\nplt.plot( acc)\\nplt.plot( val_acc)\\n#plt.title(\\'Training and validation accuracy\\')\\nplt.title(\\'PretrainedResnet50 Train/Test Loss\\')\\nplt.ylabel(\\'Loss\\')\\nplt.xlabel(\\'Number of Epochs\\')\\nplt.legend(loc=\"upper left\")\\n \\nplt.figure()\\n'"
            ]
          },
          "metadata": {},
          "execution_count": 26
        },
        {
          "output_type": "display_data",
          "data": {
            "image/png": "[encoded data removed]",
            "text/plain": [
              "<Figure size 432x288 with 1 Axes>"
            ]
          },
          "metadata": {
            "needs_background": "light"
          }
        }
      ]
    },
    {
      "cell_type": "code",
      "metadata": {
        "colab": {
          "base_uri": "https://localhost:8080/",
          "height": 593
        },
        "id": "lN8axhqEnt6q",
        "outputId": "0757d061-e087-49e0-e378-972704952d91"
      },
      "source": [
        "# Confusion Matrix  & Pres  & Recall   & F1-Score\n",
        " \n",
        "from sklearn.metrics import classification_report, confusion_matrix, plot_confusion_matrix, ConfusionMatrixDisplay\n",
        " \n",
        "target_names = ['COVID', 'NORMAL', 'PNEUMONIA']\n",
        "label_names = [0,1,2]\n",
        " \n",
        "Y_pred = model.predict_generator(test_generator)\n",
        "y_pred = np.argmax(Y_pred ,  axis = 1)\n",
        " \n",
        "cm = confusion_matrix(test_generator.classes, y_pred, labels = label_names)\n",
        " \n",
        " \n",
        "print('Confusion Matrix')\n",
        "print(confusion_matrix(test_generator.classes, y_pred))\n",
        " \n",
        "print('classification_Report')\n",
        "print(classification_report(test_generator.classes, y_pred, target_names=target_names))\n",
        " \n",
        "disp = ConfusionMatrixDisplay(confusion_matrix= cm, display_labels=target_names)\n",
        "disp = disp.plot(cmap=plt.cm.Blues, values_format = 'g')\n",
        "plt.show()"
      ],
      "execution_count": 27,
      "outputs": [
        {
          "output_type": "stream",
          "text": [
            "/usr/local/lib/python3.7/dist-packages/keras/engine/training.py:2035: UserWarning: `Model.predict_generator` is deprecated and will be removed in a future version. Please use `Model.predict`, which supports generators.\n",
            "  warnings.warn('`Model.predict_generator` is deprecated and '\n"
          ],
          "name": "stderr"
        },
        {
          "output_type": "stream",
          "text": [
            "Confusion Matrix\n",
            "[[ 374   50    4]\n",
            " [  25 1082    7]\n",
            " [   2    1  165]]\n",
            "classification_Report\n",
            "              precision    recall  f1-score   support\n",
            "\n",
            "       COVID       0.93      0.87      0.90       428\n",
            "      NORMAL       0.95      0.97      0.96      1114\n",
            "   PNEUMONIA       0.94      0.98      0.96       168\n",
            "\n",
            "    accuracy                           0.95      1710\n",
            "   macro avg       0.94      0.94      0.94      1710\n",
            "weighted avg       0.95      0.95      0.95      1710\n",
            "\n"
          ],
          "name": "stdout"
        },
        {
          "output_type": "display_data",
          "data": {
            "image/png": "[encoded data removed]",
            "text/plain": [
              "<Figure size 432x288 with 2 Axes>"
            ]
          },
          "metadata": {
            "needs_background": "light"
          }
        }
      ]
    }
  ]
}